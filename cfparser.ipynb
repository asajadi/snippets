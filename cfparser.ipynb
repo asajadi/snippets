{
 "cells": [
  {
   "cell_type": "markdown",
   "metadata": {},
   "source": [
    "# Parsing chomsky normal form grammars (Dynamic Programming)\n",
    "\n",
    "Chomsky normal form is a context free grammar with the rules in one of the following forms:\n",
    "+ A → BC,   or\n",
    "+ A → a,   or\n",
    "+ S → ε,\n",
    "\n",
    "This problem is a very nice case for dynamic programming. Historically bottom up (non-recursive) solutions are preferred as they provide a method to solve the problems by hand. On the othersize recursive solution can be much more elegant and readable. Compare the following function with the bottom-up version (https://en.wikipedia.org/wiki/CYK_algorithm)\n",
    "\n",
    "## Optimal substructure\n",
    "Here the optimal substructure means how a long solution can be obtained by combining solutions for subproblems. In this case, we have: A string w can be generated from S iff there is a way to split  w to xy such that S → XY is among the rules and X can generate x and y can generate Y. \n",
    "\n",
    "### Let’s define our variables first:\n",
    "**R**: List of the rules. Every r in R is in this form : A → BC. We save A in r.lhs and BC in r.rhs\n",
    "**w**: given string\n",
    "**chart**: This is the dycamic programming table. Every entry of it has a list of pairs. For example  if \n",
    "`chart[‘abcd’]= [(1,2),(2,3)]` \n",
    "Then it mean you can generate  this string from rule number 1 if you split it at the 2nd position, or rule no 3 if you split it at position 3"
   ]
  },
  {
   "cell_type": "markdown",
   "metadata": {},
   "source": [
    "# Implementing the parse"
   ]
  },
  {
   "cell_type": "code",
   "execution_count": 8,
   "metadata": {
    "collapsed": true
   },
   "outputs": [],
   "source": [
    "def parse(R,R_map,w,chart):\n",
    "    if w in chart:\n",
    "        return chart[w]\n",
    "    if w in alphabet:\n",
    "        for r in R_map[w]:\n",
    "            chart[w].append((r,1))\n",
    "\n",
    "    for (k,x,y) in split_string(w):\n",
    "        parse(R,R_map, x, chart)\n",
    "        parse(R,R_map, y, chart)\n",
    "        for (r1_index,_),(r2_index,_) in zip(chart[x],chart[y]):\n",
    "            (v1,_),(v2,_) = R[r1_index], R[r2_index]\n",
    "            rhs = v1+v2\n",
    "            for r in R_map[rhs]:\n",
    "                chart[w].append((r,k))\n"
   ]
  },
  {
   "cell_type": "markdown",
   "metadata": {},
   "source": [
    "# Testing The Parse"
   ]
  },
  {
   "cell_type": "code",
   "execution_count": 54,
   "metadata": {
    "collapsed": false
   },
   "outputs": [
    {
     "data": {
      "text/plain": [
       "defaultdict(list, {'AA': [1], 'AB': [0], 'BB': [3], 'a': [2], 'b': [4]})"
      ]
     },
     "execution_count": 54,
     "metadata": {},
     "output_type": "execute_result"
    }
   ],
   "source": [
    "alphabet={'a','b','c','d'}\n",
    "R=[('S','AB'),\n",
    "('S','AA'),\n",
    "('A','BC'),\n",
    "('A','a'),\n",
    "('A','b'),\n",
    "('B','BA'),\n",
    "('B','CA'),\n",
    "('B','c'),\n",
    "('B','b'),\n",
    "\n",
    "('C','BB'),\n",
    "('C','d')]\n",
    "\n",
    "\n",
    "alphabet={'a','b','c','d'}\n",
    "R=[('S','AB'),\n",
    "('A','AA'),\n",
    "('A','a'),\n",
    "('B','BB'),\n",
    "('B','b'),\n",
    "  ]\n",
    "\n",
    "\n",
    "#Create a dictionary (hashtable) with the right side of the rules as the key and the rule numbers as the values\n",
    "from collections import defaultdict\n",
    "R_map=defaultdict(list)\n",
    "for (i,r) in enumerate(R):\n",
    "    R_map[r[1]].append(i)\n",
    "R_map   "
   ]
  },
  {
   "cell_type": "markdown",
   "metadata": {},
   "source": [
    "# A simple helper function"
   ]
  },
  {
   "cell_type": "code",
   "execution_count": 10,
   "metadata": {
    "collapsed": false
   },
   "outputs": [
    {
     "data": {
      "text/plain": [
       "[(1, 'w', 'orks_like_this'),\n",
       " (2, 'wo', 'rks_like_this'),\n",
       " (3, 'wor', 'ks_like_this'),\n",
       " (4, 'work', 's_like_this'),\n",
       " (5, 'works', '_like_this'),\n",
       " (6, 'works_', 'like_this'),\n",
       " (7, 'works_l', 'ike_this'),\n",
       " (8, 'works_li', 'ke_this'),\n",
       " (9, 'works_lik', 'e_this'),\n",
       " (10, 'works_like', '_this'),\n",
       " (11, 'works_like_', 'this'),\n",
       " (12, 'works_like_t', 'his'),\n",
       " (13, 'works_like_th', 'is'),\n",
       " (14, 'works_like_thi', 's')]"
      ]
     },
     "execution_count": 10,
     "metadata": {},
     "output_type": "execute_result"
    }
   ],
   "source": [
    "def split_string(s):\n",
    "    sl=[(k,s[:k],s[k:]) for k in range(1,len(s))]\n",
    "    return sl\n",
    "split_string('works_like_this')    "
   ]
  },
  {
   "cell_type": "markdown",
   "metadata": {},
   "source": [
    "## You need to install graphviz to run the following code"
   ]
  },
  {
   "cell_type": "code",
   "execution_count": 51,
   "metadata": {
    "collapsed": false
   },
   "outputs": [],
   "source": [
    "from Queue import Queue\n",
    "from graphviz import Digraph\n",
    "import graphviz\n",
    "\n",
    "def generate(R,R_map,w,chart):\n",
    "    \n",
    "    q=Queue()\n",
    "    dot = Digraph(engine='dot')\n",
    "    \n",
    "    dot.node('0', 'S')\n",
    "    \n",
    "    node_id=0\n",
    "    q.put((w,'S',node_id))\n",
    "    string=[]\n",
    "    while not q.empty():\n",
    "        w,U,Uid = q.get()\n",
    "        found = False\n",
    "        for (r_index,k) in chart[w]:\n",
    "            if R[r_index][0]==U:\n",
    "                found = True\n",
    "                # U --> VW or U --> v\n",
    "                V = R[r_index][1][0]\n",
    "                node_id += 1\n",
    "                dot.node(str(node_id), V)\n",
    "                dot.edge(str(Uid), str(node_id))\n",
    "                if len(R[r_index][1]) == 1:\n",
    "                    break\n",
    "                q.put((w[:k], V, node_id))\n",
    "                W = R[r_index][1][1]\n",
    "                node_id += 1\n",
    "                dot.node(str(node_id), W)\n",
    "                dot.edge(str(Uid), str(node_id))\n",
    "                q.put((w[k:], W, node_id))\n",
    "                break    \n",
    "        if not found:\n",
    "            print w,\" and \", U, \"not found\"\n",
    "            return None\n",
    "                    \n",
    "    return dot\n"
   ]
  },
  {
   "cell_type": "markdown",
   "metadata": {},
   "source": [
    "# Testing\n"
   ]
  },
  {
   "cell_type": "code",
   "execution_count": 57,
   "metadata": {
    "collapsed": false
   },
   "outputs": [
    {
     "name": "stdout",
     "output_type": "stream",
     "text": [
      "aabba  and  S not found\n"
     ]
    }
   ],
   "source": [
    "#generate(R,'dadcbd')\n",
    "sample_str = 'dadcbd'\n",
    "sample_str = 'aabba'\n",
    "chart=defaultdict(list)\n",
    "parse(R,R_map,sample_str,chart)\n",
    "dot=generate(R,R_map,sample_str,chart)\n",
    "dot"
   ]
  },
  {
   "cell_type": "code",
   "execution_count": null,
   "metadata": {
    "collapsed": true
   },
   "outputs": [],
   "source": []
  }
 ],
 "metadata": {
  "kernelspec": {
   "display_name": "Python 2",
   "language": "python",
   "name": "python2"
  },
  "language_info": {
   "codemirror_mode": {
    "name": "ipython",
    "version": 2
   },
   "file_extension": ".py",
   "mimetype": "text/x-python",
   "name": "python",
   "nbconvert_exporter": "python",
   "pygments_lexer": "ipython2",
   "version": "2.7.12"
  }
 },
 "nbformat": 4,
 "nbformat_minor": 2
}
